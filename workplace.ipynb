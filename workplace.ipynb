{
 "cells": [
  {
   "cell_type": "code",
   "execution_count": 1,
   "id": "b1584ebf",
   "metadata": {},
   "outputs": [],
   "source": [
    "import pandas as pd\n",
    "import matplotlib.pyplot as plt\n",
    "import numpy as np\n",
    "from sklearn.model_selection import train_test_split\n",
    "from datetime import datetime\n",
    "from sklearn.impute import SimpleImputer\n",
    "from sklearn.base import BaseEstimator, TransformerMixin\n",
    "from sklearn.pipeline import Pipeline, FeatureUnion\n",
    "from sklearn.compose import ColumnTransformer\n",
    "from sklearn.preprocessing import OneHotEncoder\n",
    "from sklearn.linear_model import LinearRegression\n",
    "from sklearn.impute import SimpleImputer\n",
    "from sklearn.preprocessing import FunctionTransformer\n",
    "from sklearn.ensemble import RandomForestRegressor\n",
    "\n",
    "import torch\n",
    "import torch.nn as nn\n",
    "import torch.nn.functional as F\n",
    "from torch.utils.data import Dataset\n",
    "\n",
    "from src.models import *\n",
    "\n",
    "# you might need to install tqdm if not already installed \n",
    "from tqdm.notebook import tqdm"
   ]
  },
  {
   "cell_type": "code",
   "execution_count": 2,
   "id": "5915e235",
   "metadata": {},
   "outputs": [],
   "source": [
    "%load_ext autoreload\n",
    "%autoreload 2"
   ]
  },
  {
   "cell_type": "code",
   "execution_count": 3,
   "id": "86663b70",
   "metadata": {},
   "outputs": [],
   "source": [
    "device = torch.device('cuda' if torch.cuda.is_available() else 'cpu')"
   ]
  },
  {
   "cell_type": "code",
   "execution_count": 4,
   "id": "a4f6cc6e",
   "metadata": {},
   "outputs": [],
   "source": [
    "# Pytorch dataset for CNN model\n",
    "class CustomTensorDataset(Dataset):\n",
    "    def __init__(self, dataset, transform_list=None):\n",
    "        self.tensors = dataset\n",
    "        self.data_len = len(dataset[0])\n",
    "\n",
    "    def __getitem__(self, index):\n",
    "        x = self.tensors[0][index]\n",
    "        y = self.tensors[1][index]\n",
    "\n",
    "        return x, y\n",
    "    \n",
    "    def __len__(self):\n",
    "        return self.data_len"
   ]
  },
  {
   "cell_type": "code",
   "execution_count": 5,
   "id": "6b154b3d",
   "metadata": {},
   "outputs": [],
   "source": [
    "# data cleaning \n",
    "def polyline_to_trip_duration(polyline):\n",
    "    return max(polyline.count(\"[\") - 2, 0) * 15\n",
    "\n",
    "def parse_time(X):\n",
    "    dt = X['TIMESTAMP'].apply(datetime.fromtimestamp)\n",
    "    X['YR'] = dt.dt.year\n",
    "    X['MON'] = dt.dt.month\n",
    "    X['DAY'] = dt.dt.day\n",
    "    X['HR'] = dt.dt.hour\n",
    "    X['WK'] = dt.dt.weekday\n",
    "    return X\n",
    "\n",
    "class ColumnDropper(BaseEstimator, TransformerMixin):\n",
    "    def __init__(self, columns):\n",
    "        self.columns = columns\n",
    "\n",
    "    def fit(self, X, y=None):\n",
    "        return self\n",
    "\n",
    "    def transform(self, X, y=None):\n",
    "        return X.drop(self.columns, axis=1)\n",
    "\n",
    "\n",
    "# Define the columns to include in the ColumnTransformer\n",
    "columns_to_include = ['CALL_TYPE', 'TAXI_ID', 'ORIGIN_STAND']\n",
    "\n",
    "# Define the preprocessor\n",
    "preprocessor = ColumnTransformer(\n",
    "    transformers=[\n",
    "        ('impute', SimpleImputer(strategy='most_frequent'), ['ORIGIN_STAND']),\n",
    "        ('ohe', OneHotEncoder(), columns_to_include),\n",
    "    ])\n",
    "\n",
    "\n",
    "\n",
    "pipeline = Pipeline(steps=[\n",
    "    ('column_dropper', ColumnDropper(columns=['TRIP_ID', 'ORIGIN_CALL', 'DAY_TYPE', 'MISSING_DATA'])),\n",
    "    ('time_transformer', FunctionTransformer(parse_time, validate=False)),\n",
    "    ('preprocessor', preprocessor)\n",
    "])\n"
   ]
  },
  {
   "cell_type": "code",
   "execution_count": 6,
   "id": "5472e17d",
   "metadata": {},
   "outputs": [
    {
     "name": "stderr",
     "output_type": "stream",
     "text": [
      "/home/zhishang/anaconda3/lib/python3.8/site-packages/sklearn/impute/_base.py:49: FutureWarning: Unlike other reduction functions (e.g. `skew`, `kurtosis`), the default behavior of `mode` typically preserves the axis it acts along. In SciPy 1.11.0, this behavior will change: the default value of `keepdims` will become False, the `axis` over which the statistic is taken will be eliminated, and the value None will no longer be accepted. Set `keepdims` to True or False to avoid this warning.\n",
      "  mode = stats.mode(array)\n"
     ]
    }
   ],
   "source": [
    "#Load Data, it might take some time before fully read in and finish the process\n",
    "\n",
    "df_tr = pd.read_csv(\"data/train.csv\")\n",
    "X = df_tr.drop('POLYLINE', axis=1)\n",
    "y = df_tr['POLYLINE'].apply(polyline_to_trip_duration)\n",
    "\n",
    "X = pipeline.fit_transform(X)\n",
    "y = y.values\n",
    "\n",
    "X_train, X_val, y_train, y_val = train_test_split(X, y, test_size=0.1)\n",
    "\n",
    "X_train = torch.FloatTensor(X_train.todense()).to(device)\n",
    "X_val = torch.FloatTensor(X_val.todense()).to(device)\n",
    "y_train = torch.FloatTensor(y_train).to(device)\n",
    "y_val = torch.FloatTensor(y_val).to(device)"
   ]
  },
  {
   "cell_type": "code",
   "execution_count": 9,
   "id": "4b3973e1",
   "metadata": {},
   "outputs": [
    {
     "data": {
      "text/plain": [
       "MLP_1(\n",
       "  (fc1): Linear(in_features=516, out_features=64, bias=True)\n",
       "  (fc2): Linear(in_features=64, out_features=64, bias=True)\n",
       "  (fc3): Linear(in_features=64, out_features=1, bias=True)\n",
       ")"
      ]
     },
     "execution_count": 9,
     "metadata": {},
     "output_type": "execute_result"
    }
   ],
   "source": [
    "#Model MLP\n",
    "# if load the saved models\n",
    "load = True\n",
    "# 0 is mlp with simpler architecture and 1 is mlp with more complicated architecture\n",
    "mlp = 0\n",
    "\n",
    "if not load:\n",
    "    if mlp == 0:\n",
    "        model = MLP_1(516, 64, 1).to(device)\n",
    "    else:\n",
    "        model = MLP_2(516, 64, 1).to(device)\n",
    "else:\n",
    "    if mlp == 0:\n",
    "        model = torch.load(\"saved_model_mlp1.pt\")\n",
    "    else:\n",
    "        model = torch.load(\"saved_model_mlp2.pt\")\n",
    "        \n",
    "loss_fn = nn.MSELoss()\n",
    "optimizer = torch.optim.Adam(model.parameters(), lr=1e-3)\n",
    "\n",
    "model"
   ]
  },
  {
   "cell_type": "code",
   "execution_count": 10,
   "id": "30648f68",
   "metadata": {
    "scrolled": true
   },
   "outputs": [
    {
     "name": "stdout",
     "output_type": "stream",
     "text": [
      "100 449684.46875 437991.78125\n",
      "200 446694.8125 435005.0\n",
      "300 443492.78125 431295.71875\n",
      "400 440726.6875 428793.3125\n",
      "500 438903.34375 426621.125\n",
      "600 437553.34375 425707.15625\n",
      "700 436559.3125 424242.96875\n",
      "800 436071.21875 423185.28125\n",
      "900 435687.6875 422581.28125\n",
      "1000 435233.875 421801.34375\n"
     ]
    }
   ],
   "source": [
    "# Training Process with 1000 epochs\n",
    "\n",
    "epochs = 1000\n",
    "\n",
    "loss_tr_lst = []\n",
    "loss_te_lst = []\n",
    "\n",
    "for i_epoch in range(1, epochs+1):\n",
    "    \n",
    "    model.train()\n",
    "    \n",
    "    optimizer.zero_grad()\n",
    "    output = model(X_train)\n",
    "    loss = loss_fn(torch.squeeze(output), y_train)\n",
    "    loss_tr_lst.append(loss.item())\n",
    "    loss.backward()\n",
    "    optimizer.step()\n",
    "    \n",
    "    \n",
    "    model.eval()\n",
    "    \n",
    "    output_val = model(X_val)\n",
    "    loss_val = loss_fn(torch.squeeze(output_val), y_val)\n",
    "    loss_te_lst.append(loss_val.item())\n",
    "    \n",
    "    if i_epoch % 100 == 0 and i_epoch >= 100:\n",
    "        print(i_epoch, loss_tr_lst[-1], loss_te_lst[-1])"
   ]
  },
  {
   "cell_type": "code",
   "execution_count": 19,
   "id": "05bdb46d",
   "metadata": {
    "collapsed": true
   },
   "outputs": [
    {
     "data": {
      "text/plain": [
       "Text(0, 0.5, 'SE')"
      ]
     },
     "execution_count": 19,
     "metadata": {},
     "output_type": "execute_result"
    },
    {
     "data": {
      "image/png": "[encoded data removed]",
      "text/plain": [
       "<Figure size 432x288 with 1 Axes>"
      ]
     },
     "metadata": {
      "needs_background": "light"
     },
     "output_type": "display_data"
    }
   ],
   "source": [
    "# visualization\n",
    "\n",
    "# plt.plot([idx for idx in range(len(loss_tr_mlp1_lst))], loss_tr_mlp1_lst)\n",
    "# plt.plot([idx for idx in range(len(loss_tr_mlp2_lst))], loss_tr_mlp2_lst)\n",
    "# plt.plot([idx for idx in range(len(loss_te))], loss_te)\n",
    "# plt.legend([\"MLP without encoder\", \"MLP with encoder\", \"CNN\"])\n",
    "# plt.title(\"Loss Curve\")\n",
    "# plt.xlabel(\"Epoch\")\n",
    "# plt.ylabel(\"SE\")"
   ]
  },
  {
   "cell_type": "code",
   "execution_count": 7,
   "id": "466ff399",
   "metadata": {},
   "outputs": [],
   "source": [
    "# CNN part\n",
    "X_train, X_val = X_train.reshape(-1, 1, 516), X_val.reshape(-1, 1, 516)\n",
    "dataset = CustomTensorDataset((X_train, y_train))\n",
    "dataset_val = CustomTensorDataset((X_val, y_val))"
   ]
  },
  {
   "cell_type": "code",
   "execution_count": 8,
   "id": "616e791e",
   "metadata": {},
   "outputs": [],
   "source": [
    "trainloader = torch.utils.data.DataLoader(dataset, batch_size=500)\n",
    "valloader = torch.utils.data.DataLoader(dataset_val, batch_size=500)"
   ]
  },
  {
   "cell_type": "code",
   "execution_count": 9,
   "id": "89109c81",
   "metadata": {},
   "outputs": [
    {
     "name": "stdout",
     "output_type": "stream",
     "text": [
      "test\n"
     ]
    }
   ],
   "source": [
    "model = CNN().to(device)\n",
    "loss_fn = nn.MSELoss()\n",
    "optimizer = torch.optim.Adam(model.parameters(), lr=1e-3)"
   ]
  },
  {
   "cell_type": "code",
   "execution_count": 11,
   "id": "7fc02a07",
   "metadata": {},
   "outputs": [
    {
     "name": "stdout",
     "output_type": "stream",
     "text": [
      "1 472499.52728794643 484188.23669825075\n",
      "2 459708.18397930195 479164.9409620991\n",
      "3 455066.9598569399 475538.65415451897\n",
      "4 451761.9627232143 473912.50993075804\n",
      "5 449814.9791548295 471355.05707908166\n",
      "6 446495.21732700896 467497.71396683675\n",
      "7 443132.68243709416 466608.76134293\n",
      "8 440880.9617212865 465896.6082817055\n",
      "9 439451.20082437096 464902.25081997085\n",
      "10 438329.7921291599 463862.9410076531\n",
      "11 437078.03787286935 462416.61670918367\n",
      "12 436383.215528612 462054.32288629736\n",
      "13 435890.0979251218 461741.06546100584\n",
      "14 435507.2689250203 461229.4719387755\n",
      "15 435111.1968597808 460993.0473760933\n",
      "16 434794.2008598823 460718.2869897959\n",
      "17 434468.6590122768 460160.8003826531\n",
      "18 434157.42785612826 460023.62354227406\n",
      "19 433858.1130808644 459715.4470663265\n",
      "20 433544.07333350246 459502.23733600584\n"
     ]
    },
    {
     "ename": "KeyboardInterrupt",
     "evalue": "",
     "output_type": "error",
     "traceback": [
      "\u001b[0;31m---------------------------------------------------------------------------\u001b[0m",
      "\u001b[0;31mKeyboardInterrupt\u001b[0m                         Traceback (most recent call last)",
      "\u001b[0;32m<ipython-input-11-0068c2717cd8>\u001b[0m in \u001b[0;36m<module>\u001b[0;34m\u001b[0m\n\u001b[1;32m     17\u001b[0m         \u001b[0msum_loss_tr\u001b[0m \u001b[0;34m+=\u001b[0m \u001b[0mloss\u001b[0m\u001b[0;34m.\u001b[0m\u001b[0mitem\u001b[0m\u001b[0;34m(\u001b[0m\u001b[0;34m)\u001b[0m\u001b[0;34m\u001b[0m\u001b[0;34m\u001b[0m\u001b[0m\n\u001b[1;32m     18\u001b[0m         \u001b[0mloss\u001b[0m\u001b[0;34m.\u001b[0m\u001b[0mbackward\u001b[0m\u001b[0;34m(\u001b[0m\u001b[0;34m)\u001b[0m\u001b[0;34m\u001b[0m\u001b[0;34m\u001b[0m\u001b[0m\n\u001b[0;32m---> 19\u001b[0;31m         \u001b[0moptimizer\u001b[0m\u001b[0;34m.\u001b[0m\u001b[0mstep\u001b[0m\u001b[0;34m(\u001b[0m\u001b[0;34m)\u001b[0m\u001b[0;34m\u001b[0m\u001b[0;34m\u001b[0m\u001b[0m\n\u001b[0m\u001b[1;32m     20\u001b[0m \u001b[0;34m\u001b[0m\u001b[0m\n\u001b[1;32m     21\u001b[0m     \u001b[0mloss_tr_lst\u001b[0m\u001b[0;34m.\u001b[0m\u001b[0mappend\u001b[0m\u001b[0;34m(\u001b[0m\u001b[0msum_loss_tr\u001b[0m\u001b[0;34m/\u001b[0m\u001b[0mlen\u001b[0m\u001b[0;34m(\u001b[0m\u001b[0mtrainloader\u001b[0m\u001b[0;34m)\u001b[0m\u001b[0;34m)\u001b[0m\u001b[0;34m\u001b[0m\u001b[0;34m\u001b[0m\u001b[0m\n",
      "\u001b[0;32m~/anaconda3/lib/python3.8/site-packages/torch/optim/optimizer.py\u001b[0m in \u001b[0;36mwrapper\u001b[0;34m(*args, **kwargs)\u001b[0m\n\u001b[1;32m    138\u001b[0m                 \u001b[0mprofile_name\u001b[0m \u001b[0;34m=\u001b[0m \u001b[0;34m\"Optimizer.step#{}.step\"\u001b[0m\u001b[0;34m.\u001b[0m\u001b[0mformat\u001b[0m\u001b[0;34m(\u001b[0m\u001b[0mobj\u001b[0m\u001b[0;34m.\u001b[0m\u001b[0m__class__\u001b[0m\u001b[0;34m.\u001b[0m\u001b[0m__name__\u001b[0m\u001b[0;34m)\u001b[0m\u001b[0;34m\u001b[0m\u001b[0;34m\u001b[0m\u001b[0m\n\u001b[1;32m    139\u001b[0m                 \u001b[0;32mwith\u001b[0m \u001b[0mtorch\u001b[0m\u001b[0;34m.\u001b[0m\u001b[0mautograd\u001b[0m\u001b[0;34m.\u001b[0m\u001b[0mprofiler\u001b[0m\u001b[0;34m.\u001b[0m\u001b[0mrecord_function\u001b[0m\u001b[0;34m(\u001b[0m\u001b[0mprofile_name\u001b[0m\u001b[0;34m)\u001b[0m\u001b[0;34m:\u001b[0m\u001b[0;34m\u001b[0m\u001b[0;34m\u001b[0m\u001b[0m\n\u001b[0;32m--> 140\u001b[0;31m                     \u001b[0mout\u001b[0m \u001b[0;34m=\u001b[0m \u001b[0mfunc\u001b[0m\u001b[0;34m(\u001b[0m\u001b[0;34m*\u001b[0m\u001b[0margs\u001b[0m\u001b[0;34m,\u001b[0m \u001b[0;34m**\u001b[0m\u001b[0mkwargs\u001b[0m\u001b[0;34m)\u001b[0m\u001b[0;34m\u001b[0m\u001b[0;34m\u001b[0m\u001b[0m\n\u001b[0m\u001b[1;32m    141\u001b[0m                     \u001b[0mobj\u001b[0m\u001b[0;34m.\u001b[0m\u001b[0m_optimizer_step_code\u001b[0m\u001b[0;34m(\u001b[0m\u001b[0;34m)\u001b[0m\u001b[0;34m\u001b[0m\u001b[0;34m\u001b[0m\u001b[0m\n\u001b[1;32m    142\u001b[0m                     \u001b[0;32mreturn\u001b[0m \u001b[0mout\u001b[0m\u001b[0;34m\u001b[0m\u001b[0;34m\u001b[0m\u001b[0m\n",
      "\u001b[0;32m~/anaconda3/lib/python3.8/site-packages/torch/optim/optimizer.py\u001b[0m in \u001b[0;36m_use_grad\u001b[0;34m(self, *args, **kwargs)\u001b[0m\n\u001b[1;32m     21\u001b[0m         \u001b[0;32mtry\u001b[0m\u001b[0;34m:\u001b[0m\u001b[0;34m\u001b[0m\u001b[0;34m\u001b[0m\u001b[0m\n\u001b[1;32m     22\u001b[0m             \u001b[0mtorch\u001b[0m\u001b[0;34m.\u001b[0m\u001b[0mset_grad_enabled\u001b[0m\u001b[0;34m(\u001b[0m\u001b[0mself\u001b[0m\u001b[0;34m.\u001b[0m\u001b[0mdefaults\u001b[0m\u001b[0;34m[\u001b[0m\u001b[0;34m'differentiable'\u001b[0m\u001b[0;34m]\u001b[0m\u001b[0;34m)\u001b[0m\u001b[0;34m\u001b[0m\u001b[0;34m\u001b[0m\u001b[0m\n\u001b[0;32m---> 23\u001b[0;31m             \u001b[0mret\u001b[0m \u001b[0;34m=\u001b[0m \u001b[0mfunc\u001b[0m\u001b[0;34m(\u001b[0m\u001b[0mself\u001b[0m\u001b[0;34m,\u001b[0m \u001b[0;34m*\u001b[0m\u001b[0margs\u001b[0m\u001b[0;34m,\u001b[0m \u001b[0;34m**\u001b[0m\u001b[0mkwargs\u001b[0m\u001b[0;34m)\u001b[0m\u001b[0;34m\u001b[0m\u001b[0;34m\u001b[0m\u001b[0m\n\u001b[0m\u001b[1;32m     24\u001b[0m         \u001b[0;32mfinally\u001b[0m\u001b[0;34m:\u001b[0m\u001b[0;34m\u001b[0m\u001b[0;34m\u001b[0m\u001b[0m\n\u001b[1;32m     25\u001b[0m             \u001b[0mtorch\u001b[0m\u001b[0;34m.\u001b[0m\u001b[0mset_grad_enabled\u001b[0m\u001b[0;34m(\u001b[0m\u001b[0mprev_grad\u001b[0m\u001b[0;34m)\u001b[0m\u001b[0;34m\u001b[0m\u001b[0;34m\u001b[0m\u001b[0m\n",
      "\u001b[0;32m~/anaconda3/lib/python3.8/site-packages/torch/optim/adam.py\u001b[0m in \u001b[0;36mstep\u001b[0;34m(self, closure, grad_scaler)\u001b[0m\n\u001b[1;32m    232\u001b[0m                     \u001b[0mstate_steps\u001b[0m\u001b[0;34m.\u001b[0m\u001b[0mappend\u001b[0m\u001b[0;34m(\u001b[0m\u001b[0mstate\u001b[0m\u001b[0;34m[\u001b[0m\u001b[0;34m'step'\u001b[0m\u001b[0;34m]\u001b[0m\u001b[0;34m)\u001b[0m\u001b[0;34m\u001b[0m\u001b[0;34m\u001b[0m\u001b[0m\n\u001b[1;32m    233\u001b[0m \u001b[0;34m\u001b[0m\u001b[0m\n\u001b[0;32m--> 234\u001b[0;31m             adam(params_with_grad,\n\u001b[0m\u001b[1;32m    235\u001b[0m                  \u001b[0mgrads\u001b[0m\u001b[0;34m,\u001b[0m\u001b[0;34m\u001b[0m\u001b[0;34m\u001b[0m\u001b[0m\n\u001b[1;32m    236\u001b[0m                  \u001b[0mexp_avgs\u001b[0m\u001b[0;34m,\u001b[0m\u001b[0;34m\u001b[0m\u001b[0;34m\u001b[0m\u001b[0m\n",
      "\u001b[0;32m~/anaconda3/lib/python3.8/site-packages/torch/optim/adam.py\u001b[0m in \u001b[0;36madam\u001b[0;34m(params, grads, exp_avgs, exp_avg_sqs, max_exp_avg_sqs, state_steps, foreach, capturable, differentiable, fused, grad_scale, found_inf, amsgrad, beta1, beta2, lr, weight_decay, eps, maximize)\u001b[0m\n\u001b[1;32m    298\u001b[0m         \u001b[0mfunc\u001b[0m \u001b[0;34m=\u001b[0m \u001b[0m_single_tensor_adam\u001b[0m\u001b[0;34m\u001b[0m\u001b[0;34m\u001b[0m\u001b[0m\n\u001b[1;32m    299\u001b[0m \u001b[0;34m\u001b[0m\u001b[0m\n\u001b[0;32m--> 300\u001b[0;31m     func(params,\n\u001b[0m\u001b[1;32m    301\u001b[0m          \u001b[0mgrads\u001b[0m\u001b[0;34m,\u001b[0m\u001b[0;34m\u001b[0m\u001b[0;34m\u001b[0m\u001b[0m\n\u001b[1;32m    302\u001b[0m          \u001b[0mexp_avgs\u001b[0m\u001b[0;34m,\u001b[0m\u001b[0;34m\u001b[0m\u001b[0;34m\u001b[0m\u001b[0m\n",
      "\u001b[0;32m~/anaconda3/lib/python3.8/site-packages/torch/optim/adam.py\u001b[0m in \u001b[0;36m_single_tensor_adam\u001b[0;34m(params, grads, exp_avgs, exp_avg_sqs, max_exp_avg_sqs, state_steps, grad_scale, found_inf, amsgrad, beta1, beta2, lr, weight_decay, eps, maximize, capturable, differentiable)\u001b[0m\n\u001b[1;32m    408\u001b[0m                 \u001b[0mdenom\u001b[0m \u001b[0;34m=\u001b[0m \u001b[0;34m(\u001b[0m\u001b[0mmax_exp_avg_sqs\u001b[0m\u001b[0;34m[\u001b[0m\u001b[0mi\u001b[0m\u001b[0;34m]\u001b[0m\u001b[0;34m.\u001b[0m\u001b[0msqrt\u001b[0m\u001b[0;34m(\u001b[0m\u001b[0;34m)\u001b[0m \u001b[0;34m/\u001b[0m \u001b[0mbias_correction2_sqrt\u001b[0m\u001b[0;34m)\u001b[0m\u001b[0;34m.\u001b[0m\u001b[0madd_\u001b[0m\u001b[0;34m(\u001b[0m\u001b[0meps\u001b[0m\u001b[0;34m)\u001b[0m\u001b[0;34m\u001b[0m\u001b[0;34m\u001b[0m\u001b[0m\n\u001b[1;32m    409\u001b[0m             \u001b[0;32melse\u001b[0m\u001b[0;34m:\u001b[0m\u001b[0;34m\u001b[0m\u001b[0;34m\u001b[0m\u001b[0m\n\u001b[0;32m--> 410\u001b[0;31m                 \u001b[0mdenom\u001b[0m \u001b[0;34m=\u001b[0m \u001b[0;34m(\u001b[0m\u001b[0mexp_avg_sq\u001b[0m\u001b[0;34m.\u001b[0m\u001b[0msqrt\u001b[0m\u001b[0;34m(\u001b[0m\u001b[0;34m)\u001b[0m \u001b[0;34m/\u001b[0m \u001b[0mbias_correction2_sqrt\u001b[0m\u001b[0;34m)\u001b[0m\u001b[0;34m.\u001b[0m\u001b[0madd_\u001b[0m\u001b[0;34m(\u001b[0m\u001b[0meps\u001b[0m\u001b[0;34m)\u001b[0m\u001b[0;34m\u001b[0m\u001b[0;34m\u001b[0m\u001b[0m\n\u001b[0m\u001b[1;32m    411\u001b[0m \u001b[0;34m\u001b[0m\u001b[0m\n\u001b[1;32m    412\u001b[0m             \u001b[0mparam\u001b[0m\u001b[0;34m.\u001b[0m\u001b[0maddcdiv_\u001b[0m\u001b[0;34m(\u001b[0m\u001b[0mexp_avg\u001b[0m\u001b[0;34m,\u001b[0m \u001b[0mdenom\u001b[0m\u001b[0;34m,\u001b[0m \u001b[0mvalue\u001b[0m\u001b[0;34m=\u001b[0m\u001b[0;34m-\u001b[0m\u001b[0mstep_size\u001b[0m\u001b[0;34m)\u001b[0m\u001b[0;34m\u001b[0m\u001b[0;34m\u001b[0m\u001b[0m\n",
      "\u001b[0;31mKeyboardInterrupt\u001b[0m: "
     ]
    }
   ],
   "source": [
    "# start training\n",
    "epochs = 100\n",
    "\n",
    "loss_tr_lst = []\n",
    "loss_te_lst = []\n",
    "\n",
    "for i_epoch in range(1, epochs+1):\n",
    "    \n",
    "    model.train()\n",
    "    sum_loss_tr = 0\n",
    "    sum_loss_te = 0\n",
    "    \n",
    "    for x, y in trainloader:\n",
    "        optimizer.zero_grad()\n",
    "        output = model(x)\n",
    "        loss = loss_fn(torch.squeeze(output), y)\n",
    "        sum_loss_tr += loss.item()\n",
    "        loss.backward()\n",
    "        optimizer.step()\n",
    "    \n",
    "    loss_tr_lst.append(sum_loss_tr/len(trainloader))\n",
    "    \n",
    "    model.eval()\n",
    "    \n",
    "    for x, y in valloader:\n",
    "        output_val = model(x)\n",
    "        loss_val = loss_fn(torch.squeeze(output_val), y)\n",
    "        sum_loss_te += loss_val.item()\n",
    "    \n",
    "    loss_te_lst.append(sum_loss_te/len(valloader))\n",
    "    \n",
    "    print(i_epoch, loss_tr_lst[-1], loss_te_lst[-1])"
   ]
  },
  {
   "cell_type": "code",
   "execution_count": 12,
   "id": "7e33e36b",
   "metadata": {},
   "outputs": [],
   "source": [
    "torch.save(model, \"saved_model_cnn.pt\")"
   ]
  },
  {
   "cell_type": "code",
   "execution_count": 150,
   "id": "4370b98e",
   "metadata": {},
   "outputs": [],
   "source": [
    "# Read and process the test dataset and update to new prediction\n",
    "\n",
    "df_te = pd.read_csv(\"data/test_public.csv\")\n",
    "X_test = pipeline.transform(df_te)\n",
    "X_test = torch.FloatTensor(X_test.todense())\n",
    "X_test = X_test.to(device)\n",
    "X_test = X_test.reshape(-1, 1, 516)\n",
    "\n",
    "output_te = model(X_test)\n",
    "output_te = torch.squeeze(output_te)\n",
    "prediction = output_te.detach().cpu().numpy()\n",
    "\n",
    "test_df = pd.read_csv(\"data/test_public.csv\")\n",
    "test_df['TRAVEL_TIME'] = prediction\n",
    "submit_df = test_df[['TRIP_ID', 'TRAVEL_TIME']]\n",
    "submit_df.to_csv(\"sumbit.csv\", index=None)"
   ]
  },
  {
   "cell_type": "code",
   "execution_count": null,
   "id": "111ce2cc",
   "metadata": {},
   "outputs": [],
   "source": [
    "import matplotlib.pyplot as plt\n",
    "\n",
    "def visualize_polygon(coordinates, ax=None, xlim=None, ylim=None):\n",
    "    if isinstance(coordinates, str):\n",
    "        coordinates = eval(coordinates)\n",
    "    # Extract x and y coordinates from the input data\n",
    "    x = [coord[0] for coord in coordinates]\n",
    "    y = [coord[1] for coord in coordinates]\n",
    "\n",
    "    # Create a new figure and axis if 'ax' parameter is not provided\n",
    "    if ax is None:\n",
    "        fig, ax = plt.subplots()\n",
    "\n",
    "    # Plot the polygon\n",
    "    ax.plot(x, y, '-o', linewidth=2, markersize=5)\n",
    "    \n",
    "    # Mark the first coordinate with red\n",
    "    ax.plot(x[0], y[0], 'ro', markersize=7)\n",
    "\n",
    "    # Set the aspect ratio to 'equal'\n",
    "    ax.set_aspect('equal')\n",
    "\n",
    "    # Set the x and y axis labels\n",
    "    ax.set_xlabel('Longitude')\n",
    "    ax.set_ylabel('Latitude')\n",
    "    \n",
    "    ax.set_xlim(xlim)\n",
    "    ax.set_ylim(ylim)\n",
    "    \n",
    "\n",
    "    # Show the plot if 'ax' parameter is not provided\n",
    "    if ax is None:\n",
    "        plt.show()\n",
    "        \n",
    "def find_and_plot_largest_differences(df):\n",
    "    # Calculate the absolute difference between 'label' and 'prediction' columns\n",
    "    df['loss'] = abs(df['LEN'] - df['prediction'])\n",
    "\n",
    "    # Sort the DataFrame by the 'difference' column in descending order\n",
    "    sorted_df = df.sort_values('difference', ascending=False)\n",
    "\n",
    "    # Get the top 10 rows with the greatest difference\n",
    "    top_10_rows = sorted_df.head(10)\n",
    "    \n",
    "    # Get the maximum range for x-axis and y-axis\n",
    "    x_min, x_max, y_min, y_max = [], [], [], []\n",
    "    for index, row in top_10_rows.iterrows():\n",
    "        coordinates = eval(row['POLYLINE'])\n",
    "        max_x = max(coordinates, key=lambda c: c[0])[0]\n",
    "        min_x = min(coordinates, key=lambda c: c[0])[0]\n",
    "        max_y = max(coordinates, key=lambda c: c[1])[1]\n",
    "        min_y = min(coordinates, key=lambda c: c[1])[1]\n",
    "        x_min.append(min_x)\n",
    "        y_min.append(min_y)\n",
    "        x_max.append(max_x)\n",
    "        y_max.append(max_y)\n",
    "    \n",
    "    min_x, max_x, min_y, max_y = min(x_min), max(x_max), min(y_min), max(y_max)\n",
    "    # Create subplots to plot the trips\n",
    "    fig, axs = plt.subplots(2, 5, figsize=(15, 10))\n",
    "\n",
    "    # Flatten the axs array for easier indexing\n",
    "    axs = axs.flatten()\n",
    "\n",
    "    # Plot the trips for the top 10 rows\n",
    "    for i, (index, row) in enumerate(top_10_rows.iterrows()):\n",
    "        ax = axs[i]\n",
    "        ax.set_title(f\"Trip {i+1}\")\n",
    "        visualize_polygon(row['POLYLINE'], ax=ax, xlim=(min_x, max_x), ylim=(min_y, max_y))\n",
    "\n",
    "    # Adjust the spacing between subplots\n",
    "    plt.tight_layout()"
   ]
  },
  {
   "cell_type": "code",
   "execution_count": null,
   "id": "0ac379b6",
   "metadata": {},
   "outputs": [],
   "source": [
    "top10 = torch.topk(loss, 10)\n",
    "indices = top10.indices.cpu().numpy()\n",
    "poly_lst = df_tr.iloc[indices, :]['POLYLINE'].values\n",
    "\n",
    "fig, ax = plt.subplots(2, 5, figsize=(20, 10))\n",
    "for idx in range(len(poly_lst)):\n",
    "    poly = poly_lst[idx]\n",
    "    visualize_polygon(poly, ax=ax[(idx)//5, (idx)%5])\n",
    "plt.show()"
   ]
  }
 ],
 "metadata": {
  "kernelspec": {
   "display_name": "Python 3",
   "language": "python",
   "name": "python3"
  },
  "language_info": {
   "codemirror_mode": {
    "name": "ipython",
    "version": 3
   },
   "file_extension": ".py",
   "mimetype": "text/x-python",
   "name": "python",
   "nbconvert_exporter": "python",
   "pygments_lexer": "ipython3",
   "version": "3.8.8"
  }
 },
 "nbformat": 4,
 "nbformat_minor": 5
}
